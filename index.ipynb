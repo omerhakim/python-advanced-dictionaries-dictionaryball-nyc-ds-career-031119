{
 "cells": [
  {
   "cell_type": "markdown",
   "metadata": {},
   "source": [
    "# Dictionaryball"
   ]
  },
  {
   "cell_type": "markdown",
   "metadata": {},
   "source": [
    "## Instructions\n",
    "\n",
    "Great news! You're going to an NBA game. The only catch is that you've been volunteered to keep stats at the game.\n",
    "Fork and clone this lab and run the test suite to get started. You'll be coding your solution in `dictionaryball.py`."
   ]
  },
  {
   "cell_type": "code",
   "execution_count": 1,
   "metadata": {},
   "outputs": [],
   "source": [
    "game_dictionary = {'home':{'team_name':'Brooklyn Nets','colors': ['Black', 'White'],'players':{'Alan Anderson':{'number':0 ,'shoe':16 ,'points':22 , 'rebounds':12, 'assists': 12, 'steals': 3 , 'blocks':1, 'slam_dunks':1 }, 'Reggie Evans':{'number':30  ,'shoe':14 ,'points':12  , 'rebounds':12, 'assists': 12 , 'steals': 12 , 'blocks':12 , 'slam_dunks':7},'Brook Lopez':{'number':11 ,'shoe':17,'points':17  , 'rebounds':19, 'assists': 10, 'steals': 3, 'blocks':1, 'slam_dunks': 15},'Mason Plumlee':{'number':1  ,'shoe':19  ,'points':26 , 'rebounds':12, 'assists': 6 , 'steals': 3, 'blocks':8 , 'slam_dunks': 5 },'Jason Terry':{'number':31 ,'shoe':15 ,'points':19 , 'rebounds':2, 'assists': 2, 'steals': 4, 'blocks':11, 'slam_dunks':  1}}},\n",
    "                   \n",
    "                   \n",
    "                   \n",
    "                   \n",
    "                   \n",
    "                   \n",
    "  'away':{'team_name':'Charlotte Hornets','colors': ['Turquoise, Purple'],'players':{'Jeff Adrien':{'number':4 ,'shoe':18 ,'points':10 , 'rebounds':1, 'assists': 1, 'steals': 2, 'blocks':7, 'slam_dunks': 2}, 'Bismak Biyombo':{'number':0 ,'shoe':16 ,'points':12 , 'rebounds':4, 'assists': 1, 'steals': 2, 'blocks':7, 'slam_dunks': 2},'DeSagna Diop': {'number':2 ,'shoe':14 ,'points':24 , 'rebounds':12, 'assists': 12, 'steals': 4, 'blocks':5, 'slam_dunks': 5},'Ben Gordon' :{'number':8 ,'shoe':15 ,'points':33 , 'rebounds':3, 'assists': 2, 'steals': 1, 'blocks':1, 'slam_dunks': 0},'Brendan Haywood':{'number':33 ,'shoe':15,'points':6 , 'rebounds':12, 'assists': 12, 'steals': 22, 'blocks':5, 'slam_dunks': 12}}}}"
   ]
  },
  {
   "cell_type": "markdown",
   "metadata": {},
   "source": [
    "## Objectives\n",
    "1. Practice building nested dictionaries\n",
    "2. Practice iterating over nested dictionaries and lists"
   ]
  },
  {
   "cell_type": "code",
   "execution_count": 2,
   "metadata": {},
   "outputs": [
    {
     "data": {
      "text/plain": [
       "{'team_name': 'Brooklyn Nets',\n",
       " 'colors': ['Black', 'White'],\n",
       " 'players': {'Alan Anderson': {'number': 0,\n",
       "   'shoe': 16,\n",
       "   'points': 22,\n",
       "   'rebounds': 12,\n",
       "   'assists': 12,\n",
       "   'steals': 3,\n",
       "   'blocks': 1,\n",
       "   'slam_dunks': 1},\n",
       "  'Reggie Evans': {'number': 30,\n",
       "   'shoe': 14,\n",
       "   'points': 12,\n",
       "   'rebounds': 12,\n",
       "   'assists': 12,\n",
       "   'steals': 12,\n",
       "   'blocks': 12,\n",
       "   'slam_dunks': 7},\n",
       "  'Brook Lopez': {'number': 11,\n",
       "   'shoe': 17,\n",
       "   'points': 17,\n",
       "   'rebounds': 19,\n",
       "   'assists': 10,\n",
       "   'steals': 3,\n",
       "   'blocks': 1,\n",
       "   'slam_dunks': 15},\n",
       "  'Mason Plumlee': {'number': 1,\n",
       "   'shoe': 19,\n",
       "   'points': 26,\n",
       "   'rebounds': 12,\n",
       "   'assists': 6,\n",
       "   'steals': 3,\n",
       "   'blocks': 8,\n",
       "   'slam_dunks': 5},\n",
       "  'Jason Terry': {'number': 31,\n",
       "   'shoe': 15,\n",
       "   'points': 19,\n",
       "   'rebounds': 2,\n",
       "   'assists': 2,\n",
       "   'steals': 4,\n",
       "   'blocks': 11,\n",
       "   'slam_dunks': 1}}}"
      ]
     },
     "execution_count": 2,
     "metadata": {},
     "output_type": "execute_result"
    }
   ],
   "source": [
    "game_dictionary['home']"
   ]
  },
  {
   "cell_type": "markdown",
   "metadata": {},
   "source": [
    "### Part 1: Building the Dictionary\n",
    "\n",
    "The first step is to build the dictionary itself! We will need to assign the dictionary to a variable, let's call it `game_dictionary`. This nested dictionary should be constructed in the following manner:\n",
    "\n",
    "* The top level of the dictionary has two keys: `home`, for the home team, and `away`, for the away team.\n",
    "* The values of the `home` and `away` keys are dictionaries. These dictionaries have the following keys:\n",
    "  * `team_name`\n",
    "  * `colors`\n",
    "  * `players`\n",
    "  \n",
    "\n",
    "* The `team_name` key points to a string of the team name.\n",
    "* The `colors` key points to a list of strings that are that team's colors.\n",
    "* The `players` key points to a dictionary of players whose names (as strings) are the keys to a dictionary containing their stats. The values for each player's names and their stats can be found in the table below. The stats keys should be formatted like this:\n",
    "    * `number`\n",
    "    * `shoe`\n",
    "    * `points`\n",
    "    * `rebounds`\n",
    "    * `assists`\n",
    "    * `steals`\n",
    "    * `blocks`\n",
    "    * `slam_dunks`"
   ]
  },
  {
   "cell_type": "markdown",
   "metadata": {},
   "source": [
    "Use the following data to populate your `game_dictionary` as outlined above.\n",
    "\n",
    "Home Team:\n",
    "\n",
    "* team name: Brooklyn Nets\n",
    "* colors: Black, White\n",
    "* players:\n",
    "\n",
    "\n",
    "|          Stat          | Info | Info |  Info | Info | Info   |\n",
    "|:------------------:|:-------------:|:------------:|:------------:|:-------------:|:-------------:|\n",
    "| **Player Name**    |  Alan Anderson| Reggie Evans | Brook Lopez  | Mason Plumlee | Jason Terry   |\n",
    "| **Number**         | 0             | 30           | 11           | 1             | 31            |\n",
    "| **Shoe**           | 16            | 14           | 17           | 19            | 15            |\n",
    "| **Points**         | 22            | 12           | 17           | 26            | 19            |\n",
    "| **Rebounds**       | 12            | 12           | 19           | 12            | 2             |\n",
    "| **Assists**        | 12            | 12           | 10           | 6             | 2             |\n",
    "| **Steals**         | 3             | 12           | 3            | 3             | 4             |\n",
    "| **Blocks**         | 1             | 12           | 1            | 8             | 11            |\n",
    "| **Slam Dunks**     | 1             | 7            | 15           | 5             | 1             |\n",
    "\n",
    "\n",
    "Away Team:\n",
    "\n",
    "* team name: Charlotte Hornets\n",
    "* colors: Turquoise, Purple\n",
    "* players:\n",
    "\n",
    "|        Stat       |     Info          |         Info     |              Info |         Info     |         Info      |               \n",
    "|:------------------:|:-----------------:|:-----------------:|:-----------------:|:---------------:|:-----------------:|\n",
    "| **Player Name**  | Jeff Adrien     | Bismak Biyombo    | DeSagna Diop      | Ben Gordon      | Brendan Haywood   |\n",
    "| **Number**         | 4                 | 0                 | 2                 | 8               | 33                |\n",
    "| **Shoe**           | 18                | 16                | 14                | 15              | 15                |\n",
    "| **Points**         | 10                | 12                | 24                | 33              | 6                 |\n",
    "| **Rebounds**       | 1                 | 4                 | 12                | 3               | 12                |\n",
    "| **Assists**        | 1                 | 7                 | 12                | 2               | 12                |\n",
    "| **Steals**         | 2                 | 7                 | 4                 | 1               | 22                |\n",
    "| **Blocks**         | 7                 | 15                | 5                 | 1               | 5                 |\n",
    "| **Slam Dunks**     | 2                 | 10                | 5                 | 0               | 12                |"
   ]
  },
  {
   "cell_type": "markdown",
   "metadata": {},
   "source": [
    "### Step 2: Building Functions"
   ]
  },
  {
   "cell_type": "markdown",
   "metadata": {},
   "source": [
    "### Calling Functions within Functions\n",
    "\n",
    "You'll be building a series of functions that operate on the above game dictionary to return certain information about the teams and players. Each function will operate on the game dictionary by referencing the `game_dict` function. \n",
    "\n",
    "For example, let's say we want to build a function, `home_team_name`, that returns the name of the home team, `\"Brooklyn Nets\"`. We can call the function `game_dict` inside of our `home_team_name` function and operate on the game_dict:\n",
    "\n",
    "```python\n",
    "def home_team_name():\n",
    "  return game_dict()['home']['team_name']\n",
    "\n",
    "print(home_team_name()) # \"Brooklyn Nets\"\n",
    "```\n",
    "\n",
    "Now that we understand how we are going to operate on the `game_dict` inside of the functions we're building, let's build those functions:"
   ]
  },
  {
   "cell_type": "markdown",
   "metadata": {},
   "source": [
    "### Iterating through Nested Levels:\n",
    "\n",
    "This lab requires us to iterate through the many levels of our nested dictionary. **Don't take your understanding of your dictionary for granted.** Every time you iterate into a new level of the dictionary, immediately place a `import pdb; pdb.set_trace()` there. Then, run your function to see what the key/value pairs of that dictionary are.\n",
    "\n",
    "> **hint:** to run the function, call it at the bottom of your file and run the file from your terminal with the following command: `python dictionaryball.py`\n",
    "\n",
    "Let's take a look at an example:\n",
    "\n",
    "```python\n",
    "def good_practices():\n",
    "  for location, team_stats in game_dict().items():\n",
    "    # are you ABSOLUTELY SURE what 'location' and 'team_stats' are? use pdb.set_trace() to find out!\n",
    "    import pdb; pdb.set_trace()\n",
    "      for stats, data in team_stats.items():\n",
    "        # are you ABSOLUTELY SURE what 'stats' and 'data' are? use pdb.set_trace() to find out!\n",
    "        import pdb; pdb.set_trace()\n",
    "        # what is 'data' at each level of the for loop block? when will we be able to iterate through a list? \n",
    "        # When would the following line of code break?\n",
    "        for item in data:\n",
    "            print(item)\n",
    "```\n",
    "\n",
    "Open up the `dictionaryball.py` and copy and paste the above function. Then, at the bottom of the file, call the function (`good_practices()`) and, in your terminal, run the file with `python dictionaryball.py`. Play around with the values at each level of the function until you get comfortable with the iteration. To continue to the next pdb trace, you can enter `c` in your terminal. This practice should give you a stronger sense of how we iterate through so many levels of a nested dictionary and what happens on each level. If you find yourself getting stuck in building out other functions, try using this method of adding in pdb traces to check the values of your for loop variables.\n",
    "\n",
    "Okay, ***now*** we're ready to build out functions:"
   ]
  },
  {
   "cell_type": "code",
   "execution_count": 3,
   "metadata": {},
   "outputs": [],
   "source": [
    "def game_dict():\n",
    "    return game_dictionary\n",
    "\n",
    "def good_practices():\n",
    "    for location, team_stats in game_dict().items():\n",
    "        \n",
    "    # are you ABSOLUTELY SURE what 'location' and 'team_stats' are? use pdb.set_trace() to find out!\n",
    "        #import pdb; pdb.set_trace()\n",
    "        #for stats, data in team_stats.items():\n",
    "        # are you ABSOLUTELY SURE what 'stats' and 'data' are? use pdb.set_trace() to find out!\n",
    "            #import pdb; pdb.set_trace()\n",
    "        # what is 'data' at each level of the for loop block? when will we be able to iterate through a list? \n",
    "        # When would the following line of code break?\n",
    "            for item in data:\n",
    "                print(item)\n",
    " \n",
    "\n",
    "\n",
    "\n",
    "            \n",
    "            \n",
    " \n",
    "        \n",
    "\n",
    "        \n",
    "        \n",
    "\n",
    "\n"
   ]
  },
  {
   "cell_type": "markdown",
   "metadata": {},
   "source": [
    "### Function Building\n",
    "\n",
    "* Build a function, `num_points_scored` that takes in an argument of a player's name and returns the number of points scored for that player.\n",
    "  * Think about where in the dictionary you will find a player's `points`. How can you iterate down into that level? Think about the return value of your function.\n",
    "\n",
    "* Build a function, `shoe_size`, that takes in an argument of a player's name and returns the shoe size for that player.\n",
    "  * Think about how you will find the shoe size of the correct player. How can you check and see if a player's name matches the name that has been passed into the function as an argument?\n",
    "  \n",
    "* Build a function, `team_colors`, that takes in an argument of the team name and returns a list of that teams colors.\n",
    "\n",
    "* Build a function, `team_names`, that operates on the game dictionary to return a list of the team names.\n",
    "\n",
    "* Build a function, `player_numbers`, that takes in an argument of a team name and returns a list of the jersey number's for that team.\n",
    "\n",
    "* Build a function, `player_stats`, that takes in an argument of a player's name and returns a dictionary of that player's stats.\n",
    "  * Check out the following example of the expected return value of the `player_stats` function:\n",
    "\n",
    "```python\n",
    "player_stats(\"Alan Anderson\")\n",
    "# {'number': 0, 'shoe': 16, 'points': 22, 'rebounds': 12, 'assists': 12, 'steals': 3, 'blocks': 1, 'slam_dunks': 1}\n",
    "```\n",
    "\n",
    "* Build a function, `big_shoe_rebounds`, that will return the number of rebounds associated with the player that has the largest shoe size. Break this one down into steps:\n",
    "  * First, find the player with the largest shoe size\n",
    "  * Then, return that player's number of rebounds\n",
    "  * Remember to think about return values here. Use pdb traces to drop into your function and understand what it is returning and why."
   ]
  },
  {
   "cell_type": "code",
   "execution_count": 5,
   "metadata": {},
   "outputs": [
    {
     "data": {
      "text/plain": [
       "[4, 0, 2, 8, 33]"
      ]
     },
     "execution_count": 5,
     "metadata": {},
     "output_type": "execute_result"
    }
   ],
   "source": [
    "def num_points_scored(name):\n",
    "    for i,x, in game_dictionary.items():\n",
    "        for z in (x['players']):\n",
    "            \n",
    "            if z==name:\n",
    "                print(x['players'][z]['points'])\n",
    "                \n",
    "def shoe_size(name):\n",
    "    for i,x, in game_dictionary.items():\n",
    "        for z in (x['players']):\n",
    "            \n",
    "            if z==name:\n",
    "                print(x['players'][z]['shoe'])\n",
    "                \n",
    "def team_colors(team):\n",
    "    for i,x, in game_dictionary.items():\n",
    "        if x['team_name'] ==team:\n",
    "            print (x['colors']) \n",
    "            \n",
    "def team_names():\n",
    "    for i,x, in game_dictionary.items():\n",
    "        print (x['team_name'])\n",
    "        \n",
    "def player_numbers(team):\n",
    "    numbers = []\n",
    "    for i,x, in game_dictionary.items():\n",
    "        if x['team_name'] ==team:\n",
    "            for i in x['players']:\n",
    "                numbers.append(x['players'][i]['number'])\n",
    "    return numbers \n",
    "\n",
    "\n",
    "    \n",
    "def player_stats(name):\n",
    "    for i,x, in game_dictionary.items():\n",
    "        for z,y in x['players'].items():\n",
    "            if z==name:\n",
    "                print(y)\n",
    "                \n",
    "def most_points_scored():\n",
    "    mostp = []\n",
    "    for i,x, in game_dictionary.items():\n",
    "        for z,y in x['players'].items():\n",
    "            dic={z:y['points']}\n",
    "            mostp.append(dic)\n",
    "    \n",
    "    p1=0\n",
    "    for y in range(0,len(mostp)):\n",
    "        for i,x in mostp[y].items():\n",
    "            if x>p1:\n",
    "                p1=x\n",
    "                \n",
    "    for y in range(0,len(mostp)):\n",
    "           for i,x in mostp[y].items():\n",
    "                  if x==p1:\n",
    "                    return i \n",
    "player_numbers('Charlotte Hornets')"
   ]
  },
  {
   "cell_type": "code",
   "execution_count": 36,
   "metadata": {},
   "outputs": [
    {
     "data": {
      "text/plain": [
       "'Mason Plumlee'"
      ]
     },
     "execution_count": 36,
     "metadata": {},
     "output_type": "execute_result"
    }
   ],
   "source": [
    "\n",
    "def biggest_shoe():\n",
    "    largestshoe = []\n",
    "    game_dict= game_dictionary.items()\n",
    "    for i,x, in game_dictionary.items():\n",
    "        for z,y in x['players'].items():\n",
    "            dic={z:y['shoe']}\n",
    "            largestshoe.append(dic)\n",
    "    \n",
    "    s1=0\n",
    "    for y in range(0,len(largestshoe)):\n",
    "        for i,x in largestshoe[y].items():\n",
    "            if x>s1:\n",
    "                s1=x\n",
    "                \n",
    "    for y in range(0,len(largestshoe)):\n",
    "           for i,x in largestshoe[y].items():\n",
    "                  if x==s1:\n",
    "                        return i\n",
    "def big_shoe_rebounds():\n",
    "    b = bigfest_shoe()\n",
    "    for i,x, in game_dictionary.items():\n",
    "        for z,y in x['players'].items():\n",
    "            if z==b:\n",
    "                print (y['rebounds'])\n",
    "                 \n",
    "\n",
    "       "
   ]
  },
  {
   "cell_type": "markdown",
   "metadata": {},
   "source": [
    "> **hint:** If you find yourself repeating code from one function to the next, that is a good time to create a `helper function` that does just that one job for you. Then you can call that helper function in another function instead of re-writing the code you need."
   ]
  },
  {
   "cell_type": "markdown",
   "metadata": {},
   "source": [
    "## Bonus"
   ]
  },
  {
   "cell_type": "markdown",
   "metadata": {},
   "source": [
    "Define functions to return the answer to the following questions:\n",
    "\n",
    "1. Which player has the most points? Call the function `most_points_scored`.\n",
    "\n",
    "2. Which team has the most points? Call the function `winning_team`.\n",
    "\n",
    "3. Which player has the longest name? Call the function `player_with_longest_name`.\n",
    "\n",
    "**Super Bonus:**\n",
    "\n",
    "1. Write a function that returns true if the player with the longest name had the most steals. Call the function `long_name_steals_a_ton?`."
   ]
  },
  {
   "cell_type": "code",
   "execution_count": 55,
   "metadata": {},
   "outputs": [
    {
     "data": {
      "text/plain": [
       "True"
      ]
     },
     "execution_count": 55,
     "metadata": {},
     "output_type": "execute_result"
    }
   ],
   "source": [
    "def home_team_name():\n",
    "      return game_dict()['home']['team_name']\n",
    "def away_team_name():\n",
    "      return game_dict()['away']['team_name']\n",
    "\n",
    "def winning_team():\n",
    "    homet = 0\n",
    "    awayt = 0\n",
    "    for i,x, in game_dictionary.items():\n",
    "        if i=='home':\n",
    "            for z,y in x['players'].items():\n",
    "                homet+=y['points']\n",
    "        else:\n",
    "            for z,y in x['players'].items():\n",
    "                awayt +=y['points']\n",
    "    #print (homet)\n",
    "    #print (awayt)\n",
    "    if homet>awayt:\n",
    "        return home_team_name()\n",
    "    elif homet<awayt:\n",
    "            return away_team_name()\n",
    "    else:\n",
    "            return \"Overtime!!!\"\n",
    "        \n",
    "\n",
    "#def long_name_steals_a_ton?()\n",
    "pass\n",
    "\n",
    "def player_with_longest_name(name):\n",
    "    mx=0\n",
    "    for i,x, in game_dictionary.items():\n",
    "        for z in (x['players']):\n",
    "            if len(z)>mx:\n",
    "                mx=len(z)\n",
    "    if len(name)==mx:\n",
    "        return True\n",
    "    else:\n",
    "        return False\n",
    "\n",
    "def max_num_steals():\n",
    "    mosteals = 0\n",
    "    playersteals = None\n",
    "    for i,x, in game_dictionary.items():\n",
    "        for z,t in (x['players'].items()):\n",
    "            if t['steals'] > mosteals:\n",
    "                mosteals = t['steals']\n",
    "                playersteals = z\n",
    "    return playersteals   \n",
    "                \n",
    "                \n",
    "def long_name_steals_a_ton():\n",
    "    p_with_mosteals = max_num_steals()\n",
    "    if player_with_longest_name(p_with_mosteals) ==True:\n",
    "        return True\n",
    "    else:\n",
    "        return False\n",
    "        \n",
    "    \n",
    "\n",
    "    \n"
   ]
  },
  {
   "cell_type": "code",
   "execution_count": null,
   "metadata": {},
   "outputs": [],
   "source": []
  },
  {
   "cell_type": "code",
   "execution_count": null,
   "metadata": {},
   "outputs": [],
   "source": []
  }
 ],
 "metadata": {
  "kernelspec": {
   "display_name": "Python 3",
   "language": "python",
   "name": "python3"
  },
  "language_info": {
   "codemirror_mode": {
    "name": "ipython",
    "version": 3
   },
   "file_extension": ".py",
   "mimetype": "text/x-python",
   "name": "python",
   "nbconvert_exporter": "python",
   "pygments_lexer": "ipython3",
<<<<<<< HEAD
   "version": "3.7.1"
=======
   "version": "3.6.6"
>>>>>>> fc6be253a069c1752aabf5f09fb17a3553b5363f
  }
 },
 "nbformat": 4,
 "nbformat_minor": 2
}
